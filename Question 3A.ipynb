{
 "cells": [
  {
   "cell_type": "code",
   "execution_count": 1,
   "metadata": {},
   "outputs": [
    {
     "name": "stdout",
     "output_type": "stream",
     "text": [
      "You need to fold the paper 26 times to exceed the height of Mt. Fuji (3776 meters).\n"
     ]
    }
   ],
   "source": [
    "def folds_to_exceed_height(height):\n",
    "    # Initial thickness of the paper\n",
    "    t0 = 0.00008  # in meters\n",
    "    # Initialize number of folds\n",
    "    folds = 0\n",
    "    # Start with the initial thickness\n",
    "    thickness = t0\n",
    "    \n",
    "    # Loop until the thickness exceeds the desired height (Mt. Fuji's height)\n",
    "    while thickness < height:\n",
    "        folds += 1  # Increase the fold count\n",
    "        thickness *= 2  # Double the thickness after each fold\n",
    "    \n",
    "    return folds\n",
    "\n",
    "# Desired height to exceed (Mt. Fuji height)\n",
    "height_of_mt_fuji = 3776  # in meters\n",
    "\n",
    "# Calculate the minimum number of folds\n",
    "fold_count = folds_to_exceed_height(height_of_mt_fuji)\n",
    "print(f\"You need to fold the paper {fold_count} times to exceed the height of Mt. Fuji ({height_of_mt_fuji} meters).\")\n"
   ]
  },
  {
   "cell_type": "code",
   "execution_count": 2,
   "metadata": {},
   "outputs": [
    {
     "name": "stdout",
     "output_type": "stream",
     "text": [
      "You need to fold the paper 69 times to exceed the distance to Proxima Centauri (4.0175e+16 meters).\n"
     ]
    }
   ],
   "source": [
    "import math\n",
    "\n",
    "def folds_to_exceed_height(desired_height, t0):\n",
    "    # Initialize number of folds\n",
    "    folds = 0\n",
    "    # Start with the initial thickness\n",
    "    thickness = t0\n",
    "    \n",
    "    # Loop until the thickness exceeds the desired height\n",
    "    while thickness < desired_height:\n",
    "        folds += 1  # Increase the fold count\n",
    "        thickness *= 2  # Double the thickness after each fold\n",
    "    \n",
    "    return folds\n",
    "\n",
    "# Function usage to calculate folds for Proxima Centauri distance\n",
    "proxima_centauri_distance = 4.0175e16  # in meters\n",
    "initial_thickness = 0.00008  # in meters (thickness of typical copy paper)\n",
    "\n",
    "# Calculate the number of folds needed\n",
    "fold_count = folds_to_exceed_height(proxima_centauri_distance, initial_thickness)\n",
    "\n",
    "print(f\"You need to fold the paper {fold_count} times to exceed the distance to Proxima Centauri ({proxima_centauri_distance} meters).\")\n"
   ]
  },
  {
   "cell_type": "code",
   "execution_count": 3,
   "metadata": {},
   "outputs": [
    {
     "name": "stdout",
     "output_type": "stream",
     "text": [
      "To reach the Moon (384400000 meters), you need to fold the paper 22 times, with a paper length of 736900292.91 meters.\n",
      "To exceed the height of Mt. Fuji (3776 meters), you need to fold the paper 14 times, with a paper length of 11246.26 meters.\n",
      "To reach Proxima Centauri (4.0175e+16 meters), you need to fold the paper 35 times, with a paper length of 49452506171457608.00 meters.\n"
     ]
    }
   ],
   "source": [
    "import math\n",
    "\n",
    "# Function to calculate the length of paper needed to reach a given thickness after n folds\n",
    "def calculate_paper_length(t0, n):\n",
    "    # Applying the formula: L = (π * t0) / 6 * (2^n + 4) * (2^n - 1)\n",
    "    L = (math.pi * t0) / 6 * ((2**n) + 4) * ((2**n) - 1)\n",
    "    return L\n",
    "\n",
    "# Function to calculate how many folds are needed to reach a target distance\n",
    "def folds_to_exceed_distance(target_distance, t0):\n",
    "    n = 0\n",
    "    current_length = 0\n",
    "    \n",
    "    while current_length < target_distance:\n",
    "        n += 1\n",
    "        current_length = calculate_paper_length(t0, n)\n",
    "    \n",
    "    return n, current_length\n",
    "\n",
    "# Example usage for the distances\n",
    "t0 = 0.00008  # Initial thickness of typical copy paper in meters\n",
    "\n",
    "# Distances in meters\n",
    "moon_distance = 384400000  # Distance to the Moon (in meters)\n",
    "mt_fuji_height = 3776  # Height of Mt. Fuji (in meters)\n",
    "proxima_centauri_distance = 4.0175e16  # Distance to Proxima Centauri (in meters)\n",
    "\n",
    "# Calculate the number of folds needed to exceed these distances\n",
    "moon_folds, moon_length = folds_to_exceed_distance(moon_distance, t0)\n",
    "mt_fuji_folds, mt_fuji_length = folds_to_exceed_distance(mt_fuji_height, t0)\n",
    "proxima_centauri_folds, proxima_centauri_length = folds_to_exceed_distance(proxima_centauri_distance, t0)\n",
    "\n",
    "# Print results\n",
    "print(f\"To reach the Moon ({moon_distance} meters), you need to fold the paper {moon_folds} times, with a paper length of {moon_length:.2f} meters.\")\n",
    "print(f\"To exceed the height of Mt. Fuji ({mt_fuji_height} meters), you need to fold the paper {mt_fuji_folds} times, with a paper length of {mt_fuji_length:.2f} meters.\")\n",
    "print(f\"To reach Proxima Centauri ({proxima_centauri_distance} meters), you need to fold the paper {proxima_centauri_folds} times, with a paper length of {proxima_centauri_length:.2f} meters.\")\n"
   ]
  }
 ],
 "metadata": {
  "kernelspec": {
   "display_name": "Python 3",
   "language": "python",
   "name": "python3"
  },
  "language_info": {
   "codemirror_mode": {
    "name": "ipython",
    "version": 3
   },
   "file_extension": ".py",
   "mimetype": "text/x-python",
   "name": "python",
   "nbconvert_exporter": "python",
   "pygments_lexer": "ipython3",
   "version": "3.11.9"
  }
 },
 "nbformat": 4,
 "nbformat_minor": 2
}
